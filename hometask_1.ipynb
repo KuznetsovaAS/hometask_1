{
 "cells": [
  {
   "cell_type": "code",
   "execution_count": null,
   "metadata": {},
   "outputs": [],
   "source": [
    "name=str(input(\"Input your name: \"))\n",
    "age=int(input(\"Input your age: \"))\n",
    "hundred=2019-age+100\n",
    "print(str(name)+ \" will be 100 years old at \" +str(hundred))\n",
    "i=int(input(\"Input number: \"))\n",
    "for j in range(i):\n",
    "    print(str(name)+ \" will be 100 years old at \" + str(hundred))"
   ]
  },
  {
   "cell_type": "code",
   "execution_count": null,
   "metadata": {},
   "outputs": [],
   "source": [
    "number=int(input(\"Input number: \"))\n",
    "if number%2==1:\n",
    "\tprint(\"Number %d is odd\" %number)\n",
    "elif number%4==0:\n",
    "    print(\"Number %d is divided by 4\" %number)\n",
    "else:\n",
    "\tprint(\"Number %d is even\" %number)\n",
    "\n",
    "num=int(input(\"Input number 1: \"))\n",
    "check=int(input(\"Input number 2: \"))\n",
    "if check%num==0:\n",
    "\tprint(\"%d is divided by %d\" %(check, num))\n",
    "else:\n",
    "\tprint(\"%d is not divided by %d\" %(check, num))"
   ]
  },
  {
   "cell_type": "code",
   "execution_count": null,
   "metadata": {},
   "outputs": [],
   "source": [
    "a = [1, 1, 2, 3, 5, 8, 13, 21, 34, 55, 89]\n",
    "b=[a[i] for i in range(len(a)) if a[i]<5]\n",
    "print(b)\n",
    "k=int(input(\"Input your bound number: \"))\n",
    "c=[a[i] for i in range(len(a)) if a[i]<k]\n",
    "print(c)"
   ]
  },
  {
   "cell_type": "code",
   "execution_count": null,
   "metadata": {},
   "outputs": [],
   "source": [
    "num=int(input(\"Input number: \"))\n",
    "a=[i for i in range (1,num+1) if num%i==0]\n",
    "print(a)"
   ]
  },
  {
   "cell_type": "code",
   "execution_count": null,
   "metadata": {},
   "outputs": [],
   "source": [
    "import random\n",
    "a=[1,1,2,3,5,8,13,21,34,55,89]\n",
    "b=[1,2,3,4,5,6,7,8,9,10,11,12,13]\n",
    "c=[]\n",
    "for i in range(len(a)):\n",
    "\tif a[i] in b and a[i] not in c:\n",
    "\t\tc.append(a[i])\n",
    "print(\"Your lists: \", c)\n",
    "\n",
    "lst=[]\n",
    "rst=[]\n",
    "c.clear()\n",
    "lst=[random.randint(-30,30) for i in range(100)]\n",
    "rst=[random.randint(-30,30) for i in range(120)]\n",
    "for i in range(len(lst)):\n",
    "\tif lst[i] in rst and lst[i] not in c:\n",
    "\t\tc.append(lst[i])\n",
    "print(\"Random lists: \", c)"
   ]
  },
  {
   "cell_type": "code",
   "execution_count": null,
   "metadata": {},
   "outputs": [],
   "source": [
    "str=\"pop\"\n",
    "error=0\n",
    "for i in range(len(str)//2+1):\n",
    "\tif str[i]!=str[len(str)-1-i]:\n",
    "\t\terror=-1\n",
    "if error==0:\n",
    "\tprint(\"Word %s is palindrome\" %str)\n",
    "else:\n",
    "\tprint(\"Word %s is not palindrome\" %str)"
   ]
  },
  {
   "cell_type": "code",
   "execution_count": null,
   "metadata": {},
   "outputs": [],
   "source": [
    "a=[1,4,9,16,25,36,49,64,81,100]\n",
    "b=[i for i in a if i%2==0]\n",
    "print(b)"
   ]
  }
 ],
 "metadata": {
  "kernelspec": {
   "display_name": "Python 3",
   "language": "python",
   "name": "python3"
  },
  "language_info": {
   "codemirror_mode": {
    "name": "ipython",
    "version": 3
   },
   "file_extension": ".py",
   "mimetype": "text/x-python",
   "name": "python",
   "nbconvert_exporter": "python",
   "pygments_lexer": "ipython3",
   "version": "3.7.0"
  }
 },
 "nbformat": 4,
 "nbformat_minor": 2
}
